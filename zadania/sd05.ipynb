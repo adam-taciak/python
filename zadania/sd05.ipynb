{
 "cells": [
  {
   "cell_type": "markdown",
   "id": "011ee664-8639-4cb9-8afe-dd0a9528ba21",
   "metadata": {},
   "source": [
    "# Zadanie SD-05\n",
    "Napisz program w którym zdefiniujesz nową zmienną i przypiszesz do niej krotkę o następujących wartościach `(1,2,3,4,5,6,7,8,9,10)`. \n",
    "Napisz program w którym zdefiniujesz nową krotkęktóry na podstawie podanej krotki: (1,2,3,4,5,6,7,8,9,10) utworzy nową krotkę z liczbami parzystymi.\n",
    "\n",
    "### Wejście:\n",
    "Brak\n",
    "\n",
    "### Wyjście:\n",
    "```\n",
    "(2,4,6,8,10)\n",
    "```\n",
    "\n",
    "### Wskazówki:\n",
    "- skorzystaj z pętli `for`\n",
    "- użyj funkcji `tuple()` aby wykonać konwersję listy na krotkę"
   ]
  },
  {
   "cell_type": "code",
   "execution_count": null,
   "id": "fe792c7d-bf7a-469b-aa50-449da574a915",
   "metadata": {},
   "outputs": [],
   "source": []
  }
 ],
 "metadata": {
  "kernelspec": {
   "display_name": "Python 3 (ipykernel)",
   "language": "python",
   "name": "python3"
  },
  "language_info": {
   "codemirror_mode": {
    "name": "ipython",
    "version": 3
   },
   "file_extension": ".py",
   "mimetype": "text/x-python",
   "name": "python",
   "nbconvert_exporter": "python",
   "pygments_lexer": "ipython3",
   "version": "3.13.0"
  }
 },
 "nbformat": 4,
 "nbformat_minor": 5
}
