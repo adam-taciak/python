{
 "cells": [
  {
   "cell_type": "markdown",
   "id": "f2997451-f3fe-444a-ae42-1e0532bf310b",
   "metadata": {},
   "source": [
    "# Zadanie WP-06\n",
    "\n",
    "Napisz program który zapyta użytkownika o liczbę całkowitą, a następnie wyświetli ją na ekranie w postaci binarnej, ósemkowej i szesnastkowej.\n",
    "\n",
    "### Wejście\n",
    "```\n",
    "Podaj liczbę:  125\n",
    "```\n",
    "### Wyjście\n",
    "```\n",
    "binarna 0b1111101\n",
    "ósemkowa 0o175\n",
    "szesnastkowa 0x7d\n",
    "```\n",
    "\n",
    "### Wskazówki\n",
    "- użyj func\n"
   ]
  },
  {
   "cell_type": "code",
   "execution_count": null,
   "id": "fbf5105e-e95b-4043-a2d4-6ff57524fd35",
   "metadata": {},
   "outputs": [],
   "source": []
  }
 ],
 "metadata": {
  "kernelspec": {
   "display_name": "Python 3 (ipykernel)",
   "language": "python",
   "name": "python3"
  },
  "language_info": {
   "codemirror_mode": {
    "name": "ipython",
    "version": 3
   },
   "file_extension": ".py",
   "mimetype": "text/x-python",
   "name": "python",
   "nbconvert_exporter": "python",
   "pygments_lexer": "ipython3",
   "version": "3.13.0"
  }
 },
 "nbformat": 4,
 "nbformat_minor": 5
}
