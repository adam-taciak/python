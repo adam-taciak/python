{
 "cells": [
  {
   "cell_type": "markdown",
   "id": "b87e171e-b03d-4714-8b32-def8c7db628e",
   "metadata": {},
   "source": [
    "# Zadanie PK-02\n",
    "Napisz program, który odczyta zawartość pliku 'dane/apache-log.tsv' następnie wyświetli na ekranie ścieżki plików dla których serwer zwrócił kod statusu 403 lub 404.\n",
    "\n",
    "### Wejście:\n",
    "# (plik 'dane/apache-log.tsv')\n",
    "\n",
    "### Wyjście:\n",
    "```\n",
    "/history/apollo/images/little-joe.jpg\n",
    "/sts-71/launch/\n",
    "/shuttle/technology/sts_newsreflsts_ovcomm.html\n",
    "/pub/winvn/readme.txt\n",
    "/shuttle/technology/images/sts-comm.jpg\n",
    "/M/on-this-day\n",
    "```"
   ]
  },
  {
   "cell_type": "code",
   "execution_count": null,
   "id": "9a7cbbc8-2c00-42ba-a2b3-a83d47221322",
   "metadata": {},
   "outputs": [],
   "source": []
  }
 ],
 "metadata": {
  "kernelspec": {
   "display_name": "Python 3 (ipykernel)",
   "language": "python",
   "name": "python3"
  },
  "language_info": {
   "codemirror_mode": {
    "name": "ipython",
    "version": 3
   },
   "file_extension": ".py",
   "mimetype": "text/x-python",
   "name": "python",
   "nbconvert_exporter": "python",
   "pygments_lexer": "ipython3",
   "version": "3.13.0"
  }
 },
 "nbformat": 4,
 "nbformat_minor": 5
}
