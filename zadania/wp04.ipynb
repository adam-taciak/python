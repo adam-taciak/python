{
 "cells": [
  {
   "cell_type": "markdown",
   "id": "0c0fdc5c-423b-4992-92bf-e917f8e030e3",
   "metadata": {},
   "source": [
    "# Zadanie WP-04\n",
    "Napisz program, który poprosi użytkownika o podanie imienia, a następnie wyświeli na ekranie ciąg: `Cześć {podane imię} !`\n",
    "\n",
    "### Wejście\n",
    "```\n",
    "Podaj imię: Adam\n",
    "```\n",
    "\n",
    "### Wyjście\n",
    "```\n",
    "Cześć Adam !\n",
    "```\n",
    "\n",
    "### Wskazówki:\n",
    "* do pobrania danych wykorzystaj funkcję `input()`\n",
    "* do wświetlenia ciągu wykorzystaj funkcję `print()`"
   ]
  },
  {
   "cell_type": "code",
   "execution_count": null,
   "id": "bcc2bc8e-3e69-42b6-8a86-e01f7c1eaa26",
   "metadata": {},
   "outputs": [],
   "source": []
  }
 ],
 "metadata": {
  "kernelspec": {
   "display_name": "Python 3 (ipykernel)",
   "language": "python",
   "name": "python3"
  },
  "language_info": {
   "codemirror_mode": {
    "name": "ipython",
    "version": 3
   },
   "file_extension": ".py",
   "mimetype": "text/x-python",
   "name": "python",
   "nbconvert_exporter": "python",
   "pygments_lexer": "ipython3",
   "version": "3.13.0"
  }
 },
 "nbformat": 4,
 "nbformat_minor": 5
}
