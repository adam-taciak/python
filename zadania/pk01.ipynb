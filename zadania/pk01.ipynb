{
 "cells": [
  {
   "cell_type": "markdown",
   "id": "6ea12b42-551c-4131-8355-f4909f2d8364",
   "metadata": {},
   "source": [
    "# Zadanie PK-01\n",
    "Napisz program, który odczyta zawartość pliku 'dane/imiona', następnie wyświetli na ekranie tylko te imiona które rozpoczynają się literą 'R' a ich długość wynosi 8 znaków.\n",
    "\n",
    "### Wejście:\n",
    "(plik 'dane/imiona.txt)\n",
    "\n",
    "### Wyjście:\n",
    "```\n",
    "Racisław\n",
    "Radogost\n",
    "Radomysł\n",
    "Radosław\n",
    "Radzimir\n",
    "```"
   ]
  },
  {
   "cell_type": "code",
   "execution_count": null,
   "id": "50e0b9a1-e07a-41ad-a5ed-a8307a84c052",
   "metadata": {},
   "outputs": [],
   "source": []
  }
 ],
 "metadata": {
  "kernelspec": {
   "display_name": "Python 3 (ipykernel)",
   "language": "python",
   "name": "python3"
  },
  "language_info": {
   "codemirror_mode": {
    "name": "ipython",
    "version": 3
   },
   "file_extension": ".py",
   "mimetype": "text/x-python",
   "name": "python",
   "nbconvert_exporter": "python",
   "pygments_lexer": "ipython3",
   "version": "3.13.0"
  }
 },
 "nbformat": 4,
 "nbformat_minor": 5
}
