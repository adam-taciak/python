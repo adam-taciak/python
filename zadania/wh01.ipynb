{
 "cells": [
  {
   "cell_type": "markdown",
   "id": "dd54bf8a-72b2-4921-a0d5-9c3b789539ba",
   "metadata": {},
   "source": [
    "# Zadanie WH-01\n",
    "\n",
    "Napisz program, który prosi użytkownika o podanie ilości wierszy, a następnie rysuje trójkąt ze znaków '*'.\n",
    "\n",
    "### Wejście:\n",
    "\n",
    "```\n",
    "Podaj liczbę wierszy: 5\n",
    "```\n",
    "\n",
    "### Wyjście:\n",
    "\n",
    "```\n",
    "*****\n",
    "****\n",
    "***\n",
    "**\n",
    "*\n",
    "```\n",
    "\n",
    "### Wskazówki:\n",
    "\n",
    "- użyj pętli while"
   ]
  },
  {
   "cell_type": "code",
   "execution_count": null,
   "id": "e95c96b3-6633-42c9-826c-acef322fa755",
   "metadata": {},
   "outputs": [],
   "source": []
  }
 ],
 "metadata": {
  "kernelspec": {
   "display_name": "Python 3 (ipykernel)",
   "language": "python",
   "name": "python3"
  },
  "language_info": {
   "codemirror_mode": {
    "name": "ipython",
    "version": 3
   },
   "file_extension": ".py",
   "mimetype": "text/x-python",
   "name": "python",
   "nbconvert_exporter": "python",
   "pygments_lexer": "ipython3",
   "version": "3.13.0"
  }
 },
 "nbformat": 4,
 "nbformat_minor": 5
}
