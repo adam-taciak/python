{
 "cells": [
  {
   "cell_type": "markdown",
   "id": "27450a6f-863d-48bd-a6db-e0897ea69e33",
   "metadata": {},
   "source": [
    "# Zadanie WL-10\n",
    "Napisz program który poprosi użytkownika o wprowadzenie liczb oddzielonych spacją, a następnie korzystajać z wyrażeń listowych przygotuje listę z kwadratami wprowadzonych liczb. Program powinien wyświetlić nową listę.\n",
    "\n",
    "### Wejście:\n",
    "```\n",
    "Podaj liczby oddzielone spacją: 2 10 8 11\n",
    "```\n",
    "\n",
    "### Wyjście:\n",
    "```\n",
    "[4, 100, 64, 121]\n",
    "```"
   ]
  },
  {
   "cell_type": "code",
   "execution_count": 4,
   "id": "2179deb2-3160-4556-8860-0e7bfa3423b8",
   "metadata": {},
   "outputs": [
    {
     "name": "stdin",
     "output_type": "stream",
     "text": [
      "Podaj liczby oddzielone spacją:  2 10 8 11\n"
     ]
    }
   ],
   "source": [
    "wejscie = input('Podaj liczby oddzielone spacją: ')"
   ]
  }
 ],
 "metadata": {
  "kernelspec": {
   "display_name": "Python 3 (ipykernel)",
   "language": "python",
   "name": "python3"
  },
  "language_info": {
   "codemirror_mode": {
    "name": "ipython",
    "version": 3
   },
   "file_extension": ".py",
   "mimetype": "text/x-python",
   "name": "python",
   "nbconvert_exporter": "python",
   "pygments_lexer": "ipython3",
   "version": "3.13.0"
  }
 },
 "nbformat": 4,
 "nbformat_minor": 5
}
