{
 "cells": [
  {
   "cell_type": "markdown",
   "id": "cd8e6217-95bc-4152-91ab-4ff181117e22",
   "metadata": {},
   "source": [
    "# Zadanie SD-08\n",
    "\n",
    "Napisz program który będzie zliczał wprowadzone wyrazy. Program prosi o wprowadzenie zdania, następnie zlicza wystąpienie każdego z wyrazów. Na końcu wyświetla informację o częstości występowania poszczególnych wyrazów.\n",
    "\n",
    "### Wejście:\n",
    "```\n",
    "Podaj zdanie: Ala ma kota Ala ma psa\n",
    "```\n",
    "\n",
    "### Wyjście:\n",
    "```\n",
    "{'Ala': 2, 'ma': 2, 'kota': 1, 'psa': 1}\n",
    "```"
   ]
  },
  {
   "cell_type": "code",
   "execution_count": null,
   "id": "77b9802b-9870-4624-b3e5-dd19344bd4d2",
   "metadata": {},
   "outputs": [],
   "source": []
  }
 ],
 "metadata": {
  "kernelspec": {
   "display_name": "Python 3 (ipykernel)",
   "language": "python",
   "name": "python3"
  },
  "language_info": {
   "codemirror_mode": {
    "name": "ipython",
    "version": 3
   },
   "file_extension": ".py",
   "mimetype": "text/x-python",
   "name": "python",
   "nbconvert_exporter": "python",
   "pygments_lexer": "ipython3",
   "version": "3.13.0"
  }
 },
 "nbformat": 4,
 "nbformat_minor": 5
}
