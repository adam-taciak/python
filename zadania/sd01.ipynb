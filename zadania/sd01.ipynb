{
 "cells": [
  {
   "cell_type": "markdown",
   "id": "854d5929-a4c7-4528-b097-f17b5fae5da0",
   "metadata": {},
   "source": [
    "# Zadanie SD-01\n",
    "Napisz program który będzie generował listę z kwadratami liczb, z podanego przez użytkownika przedziału. Program prosi o podanie przedziału liczb, tworzy lsitę z kwadratami tych liczb i wyświetla listę na ekranie.\n",
    "\n",
    "### Wejście:\n",
    "```\n",
    "Początek przedziału: 4\n",
    "Koniec przedziału: 9\n",
    "```\n",
    "\n",
    "### Wyjście:\n",
    "```\n",
    "[16, 25, 36, 49, 64, 81]\n",
    "```\n",
    "\n",
    "### Wskazówki:\n",
    "- użyj `range()` aby wygenerować liczby z przedziału podanego przez użytkownika"
   ]
  },
  {
   "cell_type": "code",
   "execution_count": null,
   "id": "88e2db52-78cc-4137-8a9e-a28308b8c7e5",
   "metadata": {},
   "outputs": [],
   "source": []
  }
 ],
 "metadata": {
  "kernelspec": {
   "display_name": "Python 3 (ipykernel)",
   "language": "python",
   "name": "python3"
  },
  "language_info": {
   "codemirror_mode": {
    "name": "ipython",
    "version": 3
   },
   "file_extension": ".py",
   "mimetype": "text/x-python",
   "name": "python",
   "nbconvert_exporter": "python",
   "pygments_lexer": "ipython3",
   "version": "3.13.0"
  }
 },
 "nbformat": 4,
 "nbformat_minor": 5
}
