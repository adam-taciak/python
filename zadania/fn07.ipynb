{
 "cells": [
  {
   "cell_type": "markdown",
   "id": "e09f3aae-b9f5-4810-a71f-ecfa179da68b",
   "metadata": {},
   "source": [
    "# Zadanie FN-07\n",
    "Napisz program który przy użyciu funkcji sorted() posortuje listę na 3 sposoby.\n",
    "\n",
    "- sortowanie malejące po pierwszym elemencie krotki\n",
    "- sortowanie rosnące po drugim elemencie krotki\n",
    "- sortowanie rosnące po długości drugiego elementu krotki\n",
    "\n",
    "Wyświetl wszystkie listy\n",
    "\n",
    "### Wyjście:\n",
    "```\n",
    "Oryginał: [(3, 'czerwony'), (1, 'zielony'), (2, 'niebieski'), (4, 'róż')]\n",
    "Sortowanie 1: [(4, 'róż'), (3, 'czerwony'), (2, 'niebieski'), (1, 'zielony')]\n",
    "Sortowanie 2: [(3, 'czerwony'), (2, 'niebieski'), (4, 'róż'), (1, 'zielony')]\n",
    "Sortowanie 3: [(4, 'róż'), (1, 'zielony'), (3, 'czerwony'), (2, 'niebieski')]\n",
    "```"
   ]
  },
  {
   "cell_type": "code",
   "execution_count": 1,
   "id": "c5f3cf7e-fd22-4a96-8b15-ca282ba4dca2",
   "metadata": {},
   "outputs": [],
   "source": [
    "lista = [(3, 'czerwony'), (1, 'zielony'), (2, 'niebieski'), (4, 'róż')]"
   ]
  },
  {
   "cell_type": "code",
   "execution_count": null,
   "id": "874935c9-7f3c-4c8a-b630-21c86fbc098c",
   "metadata": {},
   "outputs": [],
   "source": []
  }
 ],
 "metadata": {
  "kernelspec": {
   "display_name": "Python 3 (ipykernel)",
   "language": "python",
   "name": "python3"
  },
  "language_info": {
   "codemirror_mode": {
    "name": "ipython",
    "version": 3
   },
   "file_extension": ".py",
   "mimetype": "text/x-python",
   "name": "python",
   "nbconvert_exporter": "python",
   "pygments_lexer": "ipython3",
   "version": "3.13.0"
  }
 },
 "nbformat": 4,
 "nbformat_minor": 5
}
