{
 "cells": [
  {
   "cell_type": "markdown",
   "id": "8ae488c3-b837-47e5-b576-89bafd18a33f",
   "metadata": {},
   "source": [
    "# Zadanie PK-04\n",
    "Napisz program który przetwarza plik 'dane/100-contacts.csv' i wyświetla imiona oraz nazwiska osób które mieszkają w stanach: TX lub NY\n",
    "\n",
    "Przygotuj 2 wersje:\n",
    "- z użyciem cvs.reader()\n",
    "- z użyciem csv.DictReader()\n",
    "\n",
    "### Wejście:\n",
    "Brak\n",
    "\n",
    "### Wyjście:\n",
    "```\n",
    "Abel Maclead\n",
    "Cammy Albares\n",
    "Willard Kolmetz\n",
    "...\n",
    "```"
   ]
  },
  {
   "cell_type": "code",
   "execution_count": null,
   "id": "74910297-8ded-4051-a313-ea69c094c4e8",
   "metadata": {},
   "outputs": [],
   "source": []
  }
 ],
 "metadata": {
  "kernelspec": {
   "display_name": "Python 3 (ipykernel)",
   "language": "python",
   "name": "python3"
  },
  "language_info": {
   "codemirror_mode": {
    "name": "ipython",
    "version": 3
   },
   "file_extension": ".py",
   "mimetype": "text/x-python",
   "name": "python",
   "nbconvert_exporter": "python",
   "pygments_lexer": "ipython3",
   "version": "3.13.0"
  }
 },
 "nbformat": 4,
 "nbformat_minor": 5
}
