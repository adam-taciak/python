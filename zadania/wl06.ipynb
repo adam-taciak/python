{
 "cells": [
  {
   "cell_type": "markdown",
   "id": "5f5ab346-87c1-4ac6-9bf2-f64423d01469",
   "metadata": {},
   "source": [
    "# Zadanie WL-06\n",
    "Przy użyciu wyrażeń listowych, na bazie istniejącej listy, utwórz nową listę której wszystkie ciągi będą miały duże znaki."
   ]
  },
  {
   "cell_type": "code",
   "execution_count": 1,
   "id": "247966d8-133d-4a76-9ce8-c37dc6451ee7",
   "metadata": {},
   "outputs": [],
   "source": [
    "lista = ['styczeń', 'luty', 'marzec', 'kwiecień', 'maj', 'czerwiec', 'lipiec', 'sierpień']"
   ]
  },
  {
   "cell_type": "code",
   "execution_count": null,
   "id": "db7fe98a-acb8-4e98-b00f-3091c2ce5b4e",
   "metadata": {},
   "outputs": [],
   "source": []
  }
 ],
 "metadata": {
  "kernelspec": {
   "display_name": "Python 3 (ipykernel)",
   "language": "python",
   "name": "python3"
  },
  "language_info": {
   "codemirror_mode": {
    "name": "ipython",
    "version": 3
   },
   "file_extension": ".py",
   "mimetype": "text/x-python",
   "name": "python",
   "nbconvert_exporter": "python",
   "pygments_lexer": "ipython3",
   "version": "3.13.0"
  }
 },
 "nbformat": 4,
 "nbformat_minor": 5
}
