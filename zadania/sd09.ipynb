{
 "cells": [
  {
   "cell_type": "markdown",
   "id": "8c9c773b-926c-4703-b5cf-3678e5d1b805",
   "metadata": {},
   "source": [
    "# Zadanie SD-09\n",
    "Napisz program który prosi użytkownika o wprowadzenie zdania, następnie buduje słownik w którym:\n",
    "- kluczami są pierwsze litery wyrazów,\n",
    "- wartościami są listy z wprowadzonymi wyrazami (rozpoczynające się od tej litery).\n",
    "\n",
    "### Wejście:\n",
    "```\n",
    "Podaj zdanie: Ala ma kota Ala miała psa\n",
    "```\n",
    "\n",
    "### Wyjście:\n",
    "```\n",
    "{'A': ['Ala', 'Ala'], 'm': ['ma', 'miała'], 'k': ['kota'], 'p': ['psa']}\n",
    "```"
   ]
  },
  {
   "cell_type": "code",
   "execution_count": null,
   "id": "8c2672cc-714e-46f3-9ca4-6d32781e525f",
   "metadata": {},
   "outputs": [],
   "source": []
  }
 ],
 "metadata": {
  "kernelspec": {
   "display_name": "Python 3 (ipykernel)",
   "language": "python",
   "name": "python3"
  },
  "language_info": {
   "codemirror_mode": {
    "name": "ipython",
    "version": 3
   },
   "file_extension": ".py",
   "mimetype": "text/x-python",
   "name": "python",
   "nbconvert_exporter": "python",
   "pygments_lexer": "ipython3",
   "version": "3.13.0"
  }
 },
 "nbformat": 4,
 "nbformat_minor": 5
}
