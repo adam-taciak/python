{
 "cells": [
  {
   "cell_type": "markdown",
   "id": "88e5d3c9-5eef-453f-9b77-5047f950eadc",
   "metadata": {},
   "source": [
    "# Zadanie WL-08\n",
    "Przy użyciu wyrażeń listowych, uwórz nową listę, która będzie posiadać tylko te elementy których długość jest większa niż 6 znaków. Wyświetl nową listę na ekranie.\n",
    "\n",
    "### Wyjście:\n",
    "```\n",
    "['styczeń', 'kwiecień', 'czerwiec', 'sierpień']\n",
    "```"
   ]
  },
  {
   "cell_type": "code",
   "execution_count": 1,
   "id": "16095d41-5b35-4e8b-a723-fcb25d1b899f",
   "metadata": {},
   "outputs": [],
   "source": [
    "lista = ['styczeń', 'luty', 'marzec', 'kwiecień', 'maj', 'czerwiec', 'lipiec', 'sierpień']"
   ]
  },
  {
   "cell_type": "code",
   "execution_count": null,
   "id": "76dd1904-2ac8-4ec7-a901-291a473a4d8b",
   "metadata": {},
   "outputs": [],
   "source": []
  }
 ],
 "metadata": {
  "kernelspec": {
   "display_name": "Python 3 (ipykernel)",
   "language": "python",
   "name": "python3"
  },
  "language_info": {
   "codemirror_mode": {
    "name": "ipython",
    "version": 3
   },
   "file_extension": ".py",
   "mimetype": "text/x-python",
   "name": "python",
   "nbconvert_exporter": "python",
   "pygments_lexer": "ipython3",
   "version": "3.13.0"
  }
 },
 "nbformat": 4,
 "nbformat_minor": 5
}
