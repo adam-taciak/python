{
 "cells": [
  {
   "cell_type": "markdown",
   "id": "f7406c11-a9c9-4032-85e8-abeef3e573c6",
   "metadata": {},
   "source": [
    "# Zadanie SD-06\n",
    "\n",
    "Napisz program który prosi użytkownika o podanie kolorów. Podawane kolory będą zapisywane na liście. Przy czym, nazwy kolorów zaczynających się na literę `c` lub `C` powinny być zapisane małymi literami, a pozostałem dużymi literami. Program powinien pobierać kolejne kolory tak długo, aż użytkownik wprowadzi pusty ciąg (naciśnie ENTER). Po zakończeniu pobierania kolorów, należy wyświetlić zawartość listy. \n",
    "\n",
    "### Wejście:\n",
    "```\n",
    "Podaj kolor: Czerwony\n",
    "Podaj kolor: niebieski\n",
    "Podaj kolor: CZarny\n",
    "Podaj kolor: Zielony\n",
    "```\n",
    "\n",
    "### Wyjście:\n",
    "```\n",
    "czerwony\n",
    "NIEBIESKI\n",
    "czarny\n",
    "ZIELONY\n",
    "```\n",
    "\n",
    "### Wskazówki:\n",
    "- wykorzystaj metody `upper()` oraz `lower()`"
   ]
  },
  {
   "cell_type": "code",
   "execution_count": null,
   "id": "f42e7663-0d33-461f-a2c2-d86fa78ce4ff",
   "metadata": {},
   "outputs": [],
   "source": []
  }
 ],
 "metadata": {
  "kernelspec": {
   "display_name": "Python 3 (ipykernel)",
   "language": "python",
   "name": "python3"
  },
  "language_info": {
   "codemirror_mode": {
    "name": "ipython",
    "version": 3
   },
   "file_extension": ".py",
   "mimetype": "text/x-python",
   "name": "python",
   "nbconvert_exporter": "python",
   "pygments_lexer": "ipython3",
   "version": "3.13.0"
  }
 },
 "nbformat": 4,
 "nbformat_minor": 5
}
