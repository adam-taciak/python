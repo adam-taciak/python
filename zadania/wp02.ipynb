{
 "cells": [
  {
   "cell_type": "markdown",
   "id": "f1a35163-a746-49e6-bef7-35f1daecd100",
   "metadata": {},
   "source": [
    "\n",
    "\n"
   ]
  },
  {
   "cell_type": "markdown",
   "id": "0532b40a-ec18-4c21-93a7-6933b502184d",
   "metadata": {},
   "source": [
    "# Zadanie WP-02\n",
    "\n",
    "Zdefiniuj 3 zmienne:\n",
    "* `kolor` która będzie przechowywać ciąg znakowy\n",
    "* `wiek` która będzie przechowywać liczbę całkowitą\n",
    "* `pi` która będzie przechowywać liczbę rzeczywistą\n",
    "\n",
    "Przypisz dowolne wartości, a następnie wyświelt na ekranie.\n",
    "\n",
    "### Wskazówki\n",
    "* do wświetlenia ciągu wykorzystaj funkcję `print()`"
   ]
  },
  {
   "cell_type": "code",
   "execution_count": null,
   "id": "0e77a894-68fe-4b71-b02e-1232d63cca5c",
   "metadata": {},
   "outputs": [],
   "source": []
  }
 ],
 "metadata": {
  "kernelspec": {
   "display_name": "Python 3 (ipykernel)",
   "language": "python",
   "name": "python3"
  },
  "language_info": {
   "codemirror_mode": {
    "name": "ipython",
    "version": 3
   },
   "file_extension": ".py",
   "mimetype": "text/x-python",
   "name": "python",
   "nbconvert_exporter": "python",
   "pygments_lexer": "ipython3",
   "version": "3.13.0"
  }
 },
 "nbformat": 4,
 "nbformat_minor": 5
}
