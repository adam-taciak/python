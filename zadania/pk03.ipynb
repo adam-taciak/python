{
 "cells": [
  {
   "cell_type": "markdown",
   "id": "23ab8385-1a32-4c5c-a214-5ac1b7867468",
   "metadata": {},
   "source": [
    "# Zadanie PK-03\n",
    "Napisz program, który odczyta zawartość pliku 'dane/imiona.txt', następnie zapisze do nowego pliki 'imiona_najdluzsze.txt' najdłuższe imię na każdą z liter.\n",
    "\n",
    "### Wejście:\n",
    "(plik 'dane/imiona.txt')\n",
    "\n",
    "### Wyjście:\n",
    "(plik 'imiona_najdluzsze.txt')"
   ]
  },
  {
   "cell_type": "code",
   "execution_count": null,
   "id": "4a68ab93-d137-425c-86a9-33365daf24c7",
   "metadata": {},
   "outputs": [],
   "source": []
  }
 ],
 "metadata": {
  "kernelspec": {
   "display_name": "Python 3 (ipykernel)",
   "language": "python",
   "name": "python3"
  },
  "language_info": {
   "codemirror_mode": {
    "name": "ipython",
    "version": 3
   },
   "file_extension": ".py",
   "mimetype": "text/x-python",
   "name": "python",
   "nbconvert_exporter": "python",
   "pygments_lexer": "ipython3",
   "version": "3.13.0"
  }
 },
 "nbformat": 4,
 "nbformat_minor": 5
}
