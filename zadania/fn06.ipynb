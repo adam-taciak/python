{
 "cells": [
  {
   "cell_type": "markdown",
   "id": "ef0b2815-f263-4edc-9d61-be46b5779238",
   "metadata": {},
   "source": [
    "# Zadanie FN-06\n",
    "Poniższa funkcja zamien_znaki() modyfikuje ciąg przekazany przez argumeny. Domyślnie, funkcja zwróci niemodyfikowany ciąg.\n",
    "\n",
    "Przy pomocy wyrażenia lambda, wywołaj funkcję w taki sposób, aby:\n",
    "- zwrócony przez funkcję ciąg miał wszystkie znaki duże\n",
    "- zwrócony przez funkcję ciąg miał wszystkie znaki małe\n",
    "\n",
    "### Wyjście:\n",
    "```\n",
    "Ala ma Kota\n",
    "ALA MA KOTA\n",
    "ala ma kota\n",
    "```"
   ]
  },
  {
   "cell_type": "code",
   "execution_count": 2,
   "id": "ec775f2b-690c-4892-974a-0aa66c4c598d",
   "metadata": {},
   "outputs": [],
   "source": [
    "# Twoja implementacja funkcji\n"
   ]
  },
  {
   "cell_type": "code",
   "execution_count": null,
   "id": "1b28ffe9-f527-447b-9155-8e5ad1f2f332",
   "metadata": {},
   "outputs": [],
   "source": [
    "# Kod testowy\n",
    "print(zamien_znaki('Ala ma Kota'))\n",
    "print(zamien_znaki('Ala ma Kota', lambda x: x.upper()))\n",
    "print(zamien_znaki('Ala ma Kota', lambda x: x.lower()))"
   ]
  }
 ],
 "metadata": {
  "kernelspec": {
   "display_name": "Python 3 (ipykernel)",
   "language": "python",
   "name": "python3"
  },
  "language_info": {
   "codemirror_mode": {
    "name": "ipython",
    "version": 3
   },
   "file_extension": ".py",
   "mimetype": "text/x-python",
   "name": "python",
   "nbconvert_exporter": "python",
   "pygments_lexer": "ipython3",
   "version": "3.13.0"
  }
 },
 "nbformat": 4,
 "nbformat_minor": 5
}
