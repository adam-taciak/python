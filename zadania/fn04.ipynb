{
 "cells": [
  {
   "cell_type": "markdown",
   "id": "0df086a2-54cf-408c-8604-e2aab509889d",
   "metadata": {},
   "source": [
    "# Zadanie FN-03\n",
    "Napisz funkcje usun() która przyjmuje 2 argumenty. Listę oraz minimalną długość. Funkcja powinna zwracać nową listę w której będą tylko elementy równe lub dłuższe niż podana minimalna długość. Jeżeli użytkownik nie poda minimalnej długości, to funkcja zwróci listę z elementai równymi lub dłuższymi niż 3.. Wyświetl wszystkie listy.\n",
    "\n",
    "### Wyjście:\n",
    "```\n",
    "['ala', 'ma', 'czarnego', 'kota']\n",
    "['ala', 'czarnego', 'kota']\n",
    "['czarnego', 'kota']\n",
    "```"
   ]
  },
  {
   "cell_type": "code",
   "execution_count": 2,
   "id": "db08e12a-9109-4c42-8256-7ad1d950fc0e",
   "metadata": {},
   "outputs": [],
   "source": [
    "lista = ['ala', 'ma', 'czarnego', 'kota']"
   ]
  },
  {
   "cell_type": "code",
   "execution_count": 5,
   "id": "e83d17cf-9bc9-4ca8-82fe-2f57ec02bc81",
   "metadata": {},
   "outputs": [],
   "source": [
    "# Twoja implementacja funkcji\n"
   ]
  },
  {
   "cell_type": "code",
   "execution_count": null,
   "id": "cc9240db-9ae0-4dc7-b94f-01d0b190743a",
   "metadata": {},
   "outputs": [],
   "source": [
    "# Program testowy\n",
    "print(lista)\n",
    "print(usun(lista))\n",
    "print(usun(lista, 4))"
   ]
  },
  {
   "cell_type": "code",
   "execution_count": null,
   "id": "a5919ef4-b52a-4eaa-8820-3986ad0999ad",
   "metadata": {},
   "outputs": [],
   "source": []
  }
 ],
 "metadata": {
  "kernelspec": {
   "display_name": "Python 3 (ipykernel)",
   "language": "python",
   "name": "python3"
  },
  "language_info": {
   "codemirror_mode": {
    "name": "ipython",
    "version": 3
   },
   "file_extension": ".py",
   "mimetype": "text/x-python",
   "name": "python",
   "nbconvert_exporter": "python",
   "pygments_lexer": "ipython3",
   "version": "3.13.0"
  }
 },
 "nbformat": 4,
 "nbformat_minor": 5
}
