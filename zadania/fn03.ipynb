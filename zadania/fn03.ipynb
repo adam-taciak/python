{
 "cells": [
  {
   "cell_type": "markdown",
   "id": "48fcc028-8871-4857-9933-817882a2ebaf",
   "metadata": {},
   "source": [
    "# Zadanie FN-03\n",
    "Napisz dwie funkcje które będę porównywać ciągi i zwracać informację o najdłuższym - krotkę zawierającą najdłuższy ciąg oraz jego długość.\n",
    "\n",
    "Funkcja dluzszy() przyjmuje 2 argumenty.\n",
    "\n",
    "Funkcja najdluzszy() przyjmuje dowolną ilość argumentów.\n",
    "\n",
    "### Wyjście:\n",
    "```\n",
    "('Ala ma kota', 11)\n",
    "('pieseła', 7)\n",
    "```"
   ]
  },
  {
   "cell_type": "code",
   "execution_count": 2,
   "id": "5d166d27-90d8-4e16-bb6c-c5b1772e90e5",
   "metadata": {},
   "outputs": [],
   "source": [
    "# Twoja implementacja funkcji\n"
   ]
  },
  {
   "cell_type": "code",
   "execution_count": null,
   "id": "34b6418a-68d3-4ef5-918f-f38b6ad10450",
   "metadata": {},
   "outputs": [],
   "source": [
    "# Kod testowy\n",
    "print(dluzszy('Ala ma kota', 'Ala ma psa'))\n",
    "print(najdluzszy('ala', 'ma', 'pieseła', 'kota'))"
   ]
  }
 ],
 "metadata": {
  "kernelspec": {
   "display_name": "Python 3 (ipykernel)",
   "language": "python",
   "name": "python3"
  },
  "language_info": {
   "codemirror_mode": {
    "name": "ipython",
    "version": 3
   },
   "file_extension": ".py",
   "mimetype": "text/x-python",
   "name": "python",
   "nbconvert_exporter": "python",
   "pygments_lexer": "ipython3",
   "version": "3.13.0"
  }
 },
 "nbformat": 4,
 "nbformat_minor": 5
}
