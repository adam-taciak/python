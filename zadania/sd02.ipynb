{
 "cells": [
  {
   "cell_type": "markdown",
   "id": "ee75b226-a9d8-4fe3-8723-d72305e18259",
   "metadata": {},
   "source": [
    "# Zadanie SD-02\n",
    "\n",
    "Napisz program, który na wejściu przyjmuje sekwencje 4 cyfrowych liczb binarnych, oddzielonych przecinkiem. Następnie program powinien sprawdzić czy liczby są podzielne przez 5. Sprawdzone dane wstaw do listy. Wyświetl listę.\n",
    "\n",
    "### Wejście:\n",
    "```\n",
    "1100,1010,0101\n",
    "```\n",
    "\n",
    "### Wyjście:\n",
    "```\n",
    "['1010', '0101']\n",
    "```\n",
    "\n",
    "### Wskazówki:\n",
    "- skorzystaj z funkcji `int()` aby zamienić ciąg znaków na liczbę dziesiętną\n",
    "- użyj metody `split()` aby podzielić ciąg znakowy"
   ]
  },
  {
   "cell_type": "code",
   "execution_count": null,
   "id": "29a7d7a4-fb48-4eb1-b46e-bf32e7f79279",
   "metadata": {},
   "outputs": [],
   "source": []
  }
 ],
 "metadata": {
  "kernelspec": {
   "display_name": "Python 3 (ipykernel)",
   "language": "python",
   "name": "python3"
  },
  "language_info": {
   "codemirror_mode": {
    "name": "ipython",
    "version": 3
   },
   "file_extension": ".py",
   "mimetype": "text/x-python",
   "name": "python",
   "nbconvert_exporter": "python",
   "pygments_lexer": "ipython3",
   "version": "3.13.0"
  }
 },
 "nbformat": 4,
 "nbformat_minor": 5
}
