{
 "cells": [
  {
   "cell_type": "markdown",
   "id": "744200c6-181a-44ca-9aa1-a28ecdf65606",
   "metadata": {},
   "source": [
    "# Zadanie WP-01\n",
    "Napisz program, który wyświetli na ekranie komunikat: `Witaj świecie!`.\n",
    "\n",
    "### Wskazówki\n",
    "* do wświetlenia ciągu wykorzystaj funkcję `print()`"
   ]
  },
  {
   "cell_type": "code",
   "execution_count": null,
   "id": "fe1e66dd-263b-4173-8d18-6c77ba08d8f9",
   "metadata": {},
   "outputs": [],
   "source": []
  }
 ],
 "metadata": {
  "kernelspec": {
   "display_name": "Python 3 (ipykernel)",
   "language": "python",
   "name": "python3"
  },
  "language_info": {
   "codemirror_mode": {
    "name": "ipython",
    "version": 3
   },
   "file_extension": ".py",
   "mimetype": "text/x-python",
   "name": "python",
   "nbconvert_exporter": "python",
   "pygments_lexer": "ipython3",
   "version": "3.13.0"
  }
 },
 "nbformat": 4,
 "nbformat_minor": 5
}
