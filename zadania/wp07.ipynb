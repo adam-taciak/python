{
 "cells": [
  {
   "cell_type": "markdown",
   "id": "cbf4c3d6-47f8-4ae7-bf9b-365814f3a5dd",
   "metadata": {},
   "source": [
    "# Zadanie WP-07\n",
    "Napisz program który prosi użytkownika o dwie liczby, a następnie wyświetla ich sumę.\n",
    "\n",
    "### Wejście:\n",
    "```\n",
    "# Podaj liczbę A: 4\n",
    "# Podaj liczbę B: 5\n",
    "```\n",
    "\n",
    "### Wyjście:\n",
    "```\n",
    "Suma liczb 4 oraz 5 wynosi 9\n",
    "```\n",
    "\n",
    "### Wskazówki:\n",
    "* do pobrania danych wykorzystaj funkcję `input()`\n",
    "* do wświetlenia ciągu wykorzystaj funkcję `print()`\n",
    "* do zmiany typu danych użyj funkcji `int()`"
   ]
  },
  {
   "cell_type": "code",
   "execution_count": null,
   "id": "4e73e726-0a42-4bc7-8a11-fb90811b6da8",
   "metadata": {},
   "outputs": [],
   "source": []
  }
 ],
 "metadata": {
  "kernelspec": {
   "display_name": "Python 3 (ipykernel)",
   "language": "python",
   "name": "python3"
  },
  "language_info": {
   "codemirror_mode": {
    "name": "ipython",
    "version": 3
   },
   "file_extension": ".py",
   "mimetype": "text/x-python",
   "name": "python",
   "nbconvert_exporter": "python",
   "pygments_lexer": "ipython3",
   "version": "3.13.0"
  }
 },
 "nbformat": 4,
 "nbformat_minor": 5
}
