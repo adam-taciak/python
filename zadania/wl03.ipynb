{
 "cells": [
  {
   "cell_type": "markdown",
   "id": "1174a750-1cc0-4fd8-a631-b87522ddae43",
   "metadata": {},
   "source": [
    "# Zadanie WL-03\n",
    "Używając funkcji filter() napisz program, który uworzy nową listę zawierającą tylko te elementy których długość jest równa 6. Napisz 2 wersje, z deklaracją funkcji i z wyrażeniem lambda Wyświetl nową listę.\n",
    "\n",
    "### Wyjście:\n",
    "```\n",
    "['marzec', 'lipiec']\n",
    "```"
   ]
  },
  {
   "cell_type": "code",
   "execution_count": 1,
   "id": "0e70a05a-f2ef-4aa0-8fe6-e5ece6051371",
   "metadata": {},
   "outputs": [],
   "source": [
    "lista = ['styczeń', 'luty', 'marzec', 'kwiecień', 'maj', 'czerwiec', 'lipiec', 'sierpień']"
   ]
  },
  {
   "cell_type": "code",
   "execution_count": null,
   "id": "4cf7fa5f-fbe3-4b38-985f-3968cb81523f",
   "metadata": {},
   "outputs": [],
   "source": []
  }
 ],
 "metadata": {
  "kernelspec": {
   "display_name": "Python 3 (ipykernel)",
   "language": "python",
   "name": "python3"
  },
  "language_info": {
   "codemirror_mode": {
    "name": "ipython",
    "version": 3
   },
   "file_extension": ".py",
   "mimetype": "text/x-python",
   "name": "python",
   "nbconvert_exporter": "python",
   "pygments_lexer": "ipython3",
   "version": "3.13.0"
  }
 },
 "nbformat": 4,
 "nbformat_minor": 5
}
