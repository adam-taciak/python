{
 "cells": [
  {
   "cell_type": "markdown",
   "id": "5e6e1ec3-1624-4c27-ab05-f8c917c65218",
   "metadata": {},
   "source": [
    "# Zadanie IF-02\n",
    "\n",
    "Napisz program który na wejściu przyjmuje ciąg znaków. Jeżeli użytkownik poda ciąg: `tak` lub `Tak` lub `TAK`, program wyświetli ciąg `Tak` w innym przypadku program wyświetli ciąg `Nie`.\n",
    "\n",
    "### Wejście:\n",
    "```\n",
    "tak\n",
    "```\n",
    "\n",
    "### Wyjście:\n",
    "```\n",
    "Tak\n",
    "```\n",
    "\n",
    "### Wskazówki:\n",
    "- wykorzystaj instrukcję `if`"
   ]
  },
  {
   "cell_type": "code",
   "execution_count": null,
   "id": "3a17b556-c784-43e0-ba7d-c861d91f3b86",
   "metadata": {},
   "outputs": [],
   "source": []
  }
 ],
 "metadata": {
  "kernelspec": {
   "display_name": "Python 3 (ipykernel)",
   "language": "python",
   "name": "python3"
  },
  "language_info": {
   "codemirror_mode": {
    "name": "ipython",
    "version": 3
   },
   "file_extension": ".py",
   "mimetype": "text/x-python",
   "name": "python",
   "nbconvert_exporter": "python",
   "pygments_lexer": "ipython3",
   "version": "3.13.0"
  }
 },
 "nbformat": 4,
 "nbformat_minor": 5
}
