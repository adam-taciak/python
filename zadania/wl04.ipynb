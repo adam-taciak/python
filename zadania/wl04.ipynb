{
 "cells": [
  {
   "cell_type": "markdown",
   "id": "0692fe9a-d32c-4c90-8557-b6ec7ff578b2",
   "metadata": {},
   "source": [
    "# Zadanie WL-04\n",
    "Używając funkcji reduce() oblicz sumę elementów listy.  Wynik wyświetl na ekranie.\n",
    "\n",
    "### Wyjście:\n",
    "```\n",
    "35\n",
    "```"
   ]
  },
  {
   "cell_type": "code",
   "execution_count": 1,
   "id": "9dbdf29a-bf26-4721-8854-d3929c5ffece",
   "metadata": {},
   "outputs": [],
   "source": [
    "from functools import reduce\n",
    "\n",
    "lista = [5, 2, 11, 9, 8]"
   ]
  },
  {
   "cell_type": "code",
   "execution_count": null,
   "id": "d02e3c1d-9e92-4272-b18a-aaee84f4a0a9",
   "metadata": {},
   "outputs": [],
   "source": []
  }
 ],
 "metadata": {
  "kernelspec": {
   "display_name": "Python 3 (ipykernel)",
   "language": "python",
   "name": "python3"
  },
  "language_info": {
   "codemirror_mode": {
    "name": "ipython",
    "version": 3
   },
   "file_extension": ".py",
   "mimetype": "text/x-python",
   "name": "python",
   "nbconvert_exporter": "python",
   "pygments_lexer": "ipython3",
   "version": "3.13.0"
  }
 },
 "nbformat": 4,
 "nbformat_minor": 5
}
