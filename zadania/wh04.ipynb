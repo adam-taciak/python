{
 "cells": [
  {
   "cell_type": "markdown",
   "id": "74766aae-aa12-4290-86b3-5753370d8821",
   "metadata": {},
   "source": [
    "# Zadanie WH-04\n",
    "\n",
    "Napisz prostą grę tekstową w odgadywanie liczby. Używając funkcji `randint()` wylosuj liczbę z przedziału od 1 do 50, a następnie poproś użytkownika o odgadnięcie wylosowanej liczby. Pobieraj kolejne liczby tak długo, aż użytkownik odgadnie wylosowaną liczbę.\n",
    "\n",
    "### Przykładowy przebieg rozgrywki:\n",
    "```\n",
    "Zgadnij liczbę: 25\n",
    "Szukana liczba jest większa!\n",
    "Zgadnij liczbę: 40\n",
    "Szukana liczba jest mniejsza!\n",
    "...\n",
    "Zgadnij liczbę: 28\n",
    "Brawo szukana liczba to 28.\n",
    "Zgadłeś w 7 próbach.\n",
    "```\n",
    "\n",
    "### Wskazówki\n",
    "- dodaj import modułu `random`\n",
    "- użyj funkcji `random.randint()` aby wylosować liczbę na początku gry, dokumentacja funkcji [randint](https://docs.python.org/3/library/random.html#random.randint)."
   ]
  },
  {
   "cell_type": "code",
   "execution_count": null,
   "id": "1ea6ce80-9e5a-40de-ac24-e1059cb396c4",
   "metadata": {},
   "outputs": [],
   "source": []
  }
 ],
 "metadata": {
  "kernelspec": {
   "display_name": "Python 3 (ipykernel)",
   "language": "python",
   "name": "python3"
  },
  "language_info": {
   "codemirror_mode": {
    "name": "ipython",
    "version": 3
   },
   "file_extension": ".py",
   "mimetype": "text/x-python",
   "name": "python",
   "nbconvert_exporter": "python",
   "pygments_lexer": "ipython3",
   "version": "3.13.0"
  }
 },
 "nbformat": 4,
 "nbformat_minor": 5
}
