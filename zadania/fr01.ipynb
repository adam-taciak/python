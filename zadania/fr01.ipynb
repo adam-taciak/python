{
 "cells": [
  {
   "cell_type": "markdown",
   "id": "6ad9c2ad-d23f-457b-8ed7-10e98954e7d3",
   "metadata": {},
   "source": [
    "# Zadanie FR-01\n",
    "\n",
    "Napisz program który pobiera od użytkownika zdanie, a następnie wyświetla każdą z liter w nowej linii. Spacja powinny być zamienione na znak `-`.\n",
    "\n",
    "### Wejście:\n",
    "```\n",
    "Podaj zdanie:  Ala ma kota\n",
    "```\n",
    "\n",
    "### Wyjście:\n",
    "```\n",
    "A\n",
    "l\n",
    "a\n",
    "-\n",
    "m\n",
    "a\n",
    "-\n",
    "k\n",
    "o\n",
    "t\n",
    "a\n",
    "```\n",
    "\n",
    "### Wskazówki:\n",
    "- wykorzystaj pętlę `for`"
   ]
  },
  {
   "cell_type": "code",
   "execution_count": null,
   "id": "60e94701-b83a-4d61-b3e8-e803592a13a0",
   "metadata": {},
   "outputs": [],
   "source": []
  }
 ],
 "metadata": {
  "kernelspec": {
   "display_name": "Python 3 (ipykernel)",
   "language": "python",
   "name": "python3"
  },
  "language_info": {
   "codemirror_mode": {
    "name": "ipython",
    "version": 3
   },
   "file_extension": ".py",
   "mimetype": "text/x-python",
   "name": "python",
   "nbconvert_exporter": "python",
   "pygments_lexer": "ipython3",
   "version": "3.13.0"
  }
 },
 "nbformat": 4,
 "nbformat_minor": 5
}
