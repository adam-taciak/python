{
 "cells": [
  {
   "cell_type": "markdown",
   "id": "5a6f06a4-3613-4e2f-85ea-1aa68087056a",
   "metadata": {},
   "source": [
    "# Zadanie FN-05\n",
    "Napisz program, który będzie oczekiwał 3 parametrów wywołania programu: 2 liczb i 1 operacji. Operacje to: `d` - dodawanie, `o` - odejmowanie, `m` - mnożenie. Przygotuj 3 funkcje które będą realizować takie obliczenia.\n",
    "\n",
    "Przygotuj słownik który połączy kody operacji z funkcjami. W chwili obliczeń, pobierz odpowiednią funkcję ze słownika, wykonaj obliczenia i wyświetl wynik obliczeń.\n",
    "\n",
    "Jeżeli użytkownik wywoła program z niewystarczającą ilością parametrów, program powinien wyświetlić komunikat 'Nieprawidłowa ilość argumentów' i zakończyć działanie.\n",
    "\n",
    "Przykładowe uruchomienie:\n",
    "```\n",
    "python fn05.py d 2 8\n",
    "```\n",
    "\n",
    "### Wyjście:\n",
    "```\n",
    "Wynik operacji: 10\n",
    "```"
   ]
  },
  {
   "cell_type": "code",
   "execution_count": null,
   "id": "662c7753-404e-4052-9c39-560c0c0148bf",
   "metadata": {},
   "outputs": [],
   "source": []
  }
 ],
 "metadata": {
  "kernelspec": {
   "display_name": "Python 3 (ipykernel)",
   "language": "python",
   "name": "python3"
  },
  "language_info": {
   "codemirror_mode": {
    "name": "ipython",
    "version": 3
   },
   "file_extension": ".py",
   "mimetype": "text/x-python",
   "name": "python",
   "nbconvert_exporter": "python",
   "pygments_lexer": "ipython3",
   "version": "3.13.0"
  }
 },
 "nbformat": 4,
 "nbformat_minor": 5
}
