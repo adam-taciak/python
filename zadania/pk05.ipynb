{
 "cells": [
  {
   "cell_type": "markdown",
   "id": "b00745f7-e05c-4290-8f28-e3a0021d014a",
   "metadata": {},
   "source": [
    "# Zadanie PK-05\n",
    "Napisz program który odczyta zawartość pliku 'dane/quiz.json', następnie wyświetli listę pytań i odpowiedzi z kategorii 'maths'.\n",
    "\n",
    "### Wejście:\n",
    "(plik 'dane/quiz.json')\n",
    "\n",
    "### Wyjście:\n",
    "```\n",
    "Pytanie: 5 + 7 = ?\n",
    "1) 10\n",
    "2) 11\n",
    "3) 12\n",
    "4) 13\n",
    "Pytanie: 12 - 8 = ?\n",
    "1) 1\n",
    "2) 2\n",
    "3) 3\n",
    "4) 4\n",
    "```\n",
    "\n",
    "### Wskazówki:\n",
    "- dołącz moduł `json` (`import json`) aby przetwarzać plik w formacie json"
   ]
  },
  {
   "cell_type": "code",
   "execution_count": null,
   "id": "f58d5790-19e6-41aa-9e67-23237e338b8c",
   "metadata": {},
   "outputs": [],
   "source": []
  }
 ],
 "metadata": {
  "kernelspec": {
   "display_name": "Python 3 (ipykernel)",
   "language": "python",
   "name": "python3"
  },
  "language_info": {
   "codemirror_mode": {
    "name": "ipython",
    "version": 3
   },
   "file_extension": ".py",
   "mimetype": "text/x-python",
   "name": "python",
   "nbconvert_exporter": "python",
   "pygments_lexer": "ipython3",
   "version": "3.13.0"
  }
 },
 "nbformat": 4,
 "nbformat_minor": 5
}
