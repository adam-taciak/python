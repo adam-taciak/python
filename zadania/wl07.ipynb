{
 "cells": [
  {
   "cell_type": "markdown",
   "id": "0ea9c307-bb76-4788-ae52-6b5167d253a8",
   "metadata": {},
   "source": [
    "# Zadanie WL-07\n",
    "Przy użyciu wyrażeń listowych, utwórz nową listę której kolejne elementy będą iloczynem kolejnych elementów 2 list. Wyświetl nową listę na ekranie.\n",
    "\n",
    "### Wyjście:\n",
    "```\n",
    "[18, 8, 90, 48, 24, 22]\n",
    "```"
   ]
  },
  {
   "cell_type": "code",
   "execution_count": 1,
   "id": "72ffa924-f233-41b3-85af-d33fcd6413f2",
   "metadata": {},
   "outputs": [],
   "source": [
    "lista1 = [6, 4, 9, 12, 3, 11]\n",
    "lista2 = [3, 2, 10, 4, 8, 2]"
   ]
  },
  {
   "cell_type": "code",
   "execution_count": null,
   "id": "fabe9550-51e7-4c60-9abe-9d5dc80cc53c",
   "metadata": {},
   "outputs": [],
   "source": []
  }
 ],
 "metadata": {
  "kernelspec": {
   "display_name": "Python 3 (ipykernel)",
   "language": "python",
   "name": "python3"
  },
  "language_info": {
   "codemirror_mode": {
    "name": "ipython",
    "version": 3
   },
   "file_extension": ".py",
   "mimetype": "text/x-python",
   "name": "python",
   "nbconvert_exporter": "python",
   "pygments_lexer": "ipython3",
   "version": "3.13.0"
  }
 },
 "nbformat": 4,
 "nbformat_minor": 5
}
