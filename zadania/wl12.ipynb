{
 "cells": [
  {
   "cell_type": "markdown",
   "id": "eb5632ad-1e28-4744-b540-fbc312fee9c8",
   "metadata": {},
   "source": [
    "### Zadanie WL-12\n",
    "Napisz program który odczyta zawartość pliki `dane/imiona.txt` i korzystając z wyrażeń listowych, utworzy listę imion rozpoczynających się literą `K` mających długosć 5 znaków. Imiona na liście powinny mieć wszystkie litery duże. Program powinien wyświetlić imiona.\n",
    "\n",
    "### Wejście:\n",
    "(plik 'dane/imiona.txt')\n",
    "\n",
    "### Wyjście:\n",
    "```\n",
    "['KAJUS', 'KAMIL', 'KANUT', 'KAROL']\n",
    "```"
   ]
  },
  {
   "cell_type": "code",
   "execution_count": null,
   "id": "4c0f7ab6-9161-43e0-9f2f-62252a364d21",
   "metadata": {},
   "outputs": [],
   "source": []
  }
 ],
 "metadata": {
  "kernelspec": {
   "display_name": "Python 3 (ipykernel)",
   "language": "python",
   "name": "python3"
  },
  "language_info": {
   "codemirror_mode": {
    "name": "ipython",
    "version": 3
   },
   "file_extension": ".py",
   "mimetype": "text/x-python",
   "name": "python",
   "nbconvert_exporter": "python",
   "pygments_lexer": "ipython3",
   "version": "3.13.0"
  }
 },
 "nbformat": 4,
 "nbformat_minor": 5
}
