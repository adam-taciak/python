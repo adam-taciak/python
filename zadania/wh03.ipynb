{
 "cells": [
  {
   "cell_type": "markdown",
   "id": "40a631e7-5c40-48d1-ad12-719d2b888bfe",
   "metadata": {},
   "source": [
    "# Zadanie WH-03\n",
    "Napisz program, który znajdzie wszystkie liczby jednocześnie podzielne przez 5 i 7 z przedziału od 10 do 200.\n",
    "\n",
    "### Wejście:\n",
    "Brak\n",
    "\n",
    "### Wyjście:\n",
    "```\n",
    "35\n",
    "70\n",
    "105\n",
    "140\n",
    "175\n",
    "```\n",
    "\n",
    "### Wskazówki:\n",
    "-  wykorzystaj operator modulo (%)\n",
    "-  wykorzystaj funkcję `while`"
   ]
  },
  {
   "cell_type": "code",
   "execution_count": null,
   "id": "9225b484-550e-4111-9f93-411ec2a7dcbe",
   "metadata": {},
   "outputs": [],
   "source": []
  }
 ],
 "metadata": {
  "kernelspec": {
   "display_name": "Python 3 (ipykernel)",
   "language": "python",
   "name": "python3"
  },
  "language_info": {
   "codemirror_mode": {
    "name": "ipython",
    "version": 3
   },
   "file_extension": ".py",
   "mimetype": "text/x-python",
   "name": "python",
   "nbconvert_exporter": "python",
   "pygments_lexer": "ipython3",
   "version": "3.13.0"
  }
 },
 "nbformat": 4,
 "nbformat_minor": 5
}
