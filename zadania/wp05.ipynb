{
 "cells": [
  {
   "cell_type": "markdown",
   "id": "63027528-4db3-4418-a988-9e7ca21b9068",
   "metadata": {},
   "source": [
    "# Zadanie WP-05\n",
    "\n",
    "Poniżej znajduje się program w którym popełniono kilka błędów. Popraw program tak, aby działał prawidłowo. Program prosi użytkownika o podanie imienia, a następnie wyświetla komunikat powitalny.\n",
    "\n",
    "### Wejście\n",
    "```\n",
    "Podaj swoje imię: Adam\n",
    "```\n",
    "\n",
    "### Wyjście\n",
    "```\n",
    "Witaj Adam\n",
    "```"
   ]
  },
  {
   "cell_type": "code",
   "execution_count": 1,
   "id": "62a48bc6-5ddc-4707-9e25-86784c4ef88b",
   "metadata": {},
   "outputs": [
    {
     "ename": "SyntaxError",
     "evalue": "unterminated string literal (detected at line 1) (1180517642.py, line 1)",
     "output_type": "error",
     "traceback": [
      "\u001b[1;36m  Cell \u001b[1;32mIn[1], line 1\u001b[1;36m\u001b[0m\n\u001b[1;33m    $imie = input('Podaj swoje imię: )\u001b[0m\n\u001b[1;37m                  ^\u001b[0m\n\u001b[1;31mSyntaxError\u001b[0m\u001b[1;31m:\u001b[0m unterminated string literal (detected at line 1)\n"
     ]
    }
   ],
   "source": [
    "$imie = input('Podaj swoje imię: )\n",
    "print('Witaj' $imie)"
   ]
  }
 ],
 "metadata": {
  "kernelspec": {
   "display_name": "Python 3 (ipykernel)",
   "language": "python",
   "name": "python3"
  },
  "language_info": {
   "codemirror_mode": {
    "name": "ipython",
    "version": 3
   },
   "file_extension": ".py",
   "mimetype": "text/x-python",
   "name": "python",
   "nbconvert_exporter": "python",
   "pygments_lexer": "ipython3",
   "version": "3.13.0"
  }
 },
 "nbformat": 4,
 "nbformat_minor": 5
}
