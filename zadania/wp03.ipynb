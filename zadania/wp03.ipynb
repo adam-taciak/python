{
 "cells": [
  {
   "cell_type": "markdown",
   "id": "ba501de8-4b3a-46b6-b69c-83b366d79f2c",
   "metadata": {},
   "source": [
    "# Zadanie WP-03\n",
    "\n",
    "Zdefiniuj nową zmienną która będzie przechowywać następujący tekst: `Ulubiony kolor 'czerwony', ulubiony miesiąć \"sierpień\"`. Zwróć uwagę na to, że w ciągu występują apostrofy oraz cudzysłowy.\n",
    "\n",
    "## Wejście\n",
    "brak\n",
    "\n",
    "## Wyjście\n",
    "```\n",
    "Ulubiony kolor: 'czerwony', ulubiony miesiąć \"sierpień\"\n",
    "```\n",
    "\n",
    "## Wskazówki\n",
    "- zastosuj znak ucieczki\n",
    "- użyj funkcji `print()`\n"
   ]
  },
  {
   "cell_type": "code",
   "execution_count": null,
   "id": "19e6b04b-0616-4351-b3e3-97a7df09867d",
   "metadata": {},
   "outputs": [],
   "source": []
  }
 ],
 "metadata": {
  "kernelspec": {
   "display_name": "Python 3 (ipykernel)",
   "language": "python",
   "name": "python3"
  },
  "language_info": {
   "codemirror_mode": {
    "name": "ipython",
    "version": 3
   },
   "file_extension": ".py",
   "mimetype": "text/x-python",
   "name": "python",
   "nbconvert_exporter": "python",
   "pygments_lexer": "ipython3",
   "version": "3.13.0"
  }
 },
 "nbformat": 4,
 "nbformat_minor": 5
}
