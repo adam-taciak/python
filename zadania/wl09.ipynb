{
 "cells": [
  {
   "cell_type": "markdown",
   "id": "4c2ed7d4-4740-415a-af14-2539cf1e5b44",
   "metadata": {},
   "source": [
    "# Zadanie WL-09\n",
    "Przy użyciu wyrażeń listowych, utwórz nową listę która zawiera tylko te elementy pierwszej listy wejściowej, których długość jest mniejsza niż 7 znaków. Ciągi w nowej liście powinny być zmodyfikowane (powtórzone) zgodnie z liczbami z drugiej listy. Wyświetl nową listę na ekranie.\n",
    "\n",
    "### Wyjście:\n",
    "```\n",
    "['białybiały', 'czarny', 'różowyróżowyróżowy']\n",
    "```"
   ]
  },
  {
   "cell_type": "code",
   "execution_count": 1,
   "id": "aeb112a1-9d5b-466b-bcd4-a35abc549f2d",
   "metadata": {},
   "outputs": [],
   "source": [
    "lista1 = ['biały', 'czarny', 'zielony', 'czerwony', 'niebieski', 'różowy']\n",
    "lista2 = [2, 1, 3, 2, 1, 3]"
   ]
  },
  {
   "cell_type": "code",
   "execution_count": null,
   "id": "494a4e0d-301e-4de0-8c05-2f13f140f41a",
   "metadata": {},
   "outputs": [],
   "source": []
  }
 ],
 "metadata": {
  "kernelspec": {
   "display_name": "Python 3 (ipykernel)",
   "language": "python",
   "name": "python3"
  },
  "language_info": {
   "codemirror_mode": {
    "name": "ipython",
    "version": 3
   },
   "file_extension": ".py",
   "mimetype": "text/x-python",
   "name": "python",
   "nbconvert_exporter": "python",
   "pygments_lexer": "ipython3",
   "version": "3.13.0"
  }
 },
 "nbformat": 4,
 "nbformat_minor": 5
}
