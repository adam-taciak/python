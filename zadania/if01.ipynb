{
 "cells": [
  {
   "cell_type": "markdown",
   "id": "179704f3-dade-410c-b406-f238d23469bf",
   "metadata": {},
   "source": [
    "# Zadanie IF-01\n",
    "\n",
    "Napisz program który prosi o podanie liczby, a następnie informuje użytkownika czy podana liczba jest: większa niż 10, mniejsza niż 10 lub równa 10.\n",
    "\n",
    "### Wejście:\n",
    "```\n",
    "Podaj liczbę: 6\n",
    "Podaj liczbę: 15\n",
    "Podaj liczbę: 10\n",
    "```\n",
    "\n",
    "### Wyjście:\n",
    "```\n",
    "Liczba 6 jest mniejsza niż 10\n",
    "Liczba 15 jest większa niż 10\n",
    "Liczba 10 jest równa 10\n",
    "```\n",
    "\n",
    "### Wskazówki:\n",
    "- wykorzystaj wyrażenie warunkowe if\n",
    "- wykorzystaj f-strings do formatowania ciągów"
   ]
  },
  {
   "cell_type": "code",
   "execution_count": null,
   "id": "7a2fe450-9d4f-496e-8960-69d13a50837c",
   "metadata": {},
   "outputs": [],
   "source": []
  }
 ],
 "metadata": {
  "kernelspec": {
   "display_name": "Python 3 (ipykernel)",
   "language": "python",
   "name": "python3"
  },
  "language_info": {
   "codemirror_mode": {
    "name": "ipython",
    "version": 3
   },
   "file_extension": ".py",
   "mimetype": "text/x-python",
   "name": "python",
   "nbconvert_exporter": "python",
   "pygments_lexer": "ipython3",
   "version": "3.13.0"
  }
 },
 "nbformat": 4,
 "nbformat_minor": 5
}
