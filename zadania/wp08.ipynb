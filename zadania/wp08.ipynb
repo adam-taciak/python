{
 "cells": [
  {
   "cell_type": "markdown",
   "id": "a7d70149-3869-4796-b323-5e7c667b6f42",
   "metadata": {},
   "source": [
    "# Zadanie WP08\n",
    "\n",
    "Napisz program, który poprosi użytkownika o wprowadzenie liczby, następnie obliczy kwadrat podanej liczby, a wynik wyświetli na ekranie.\n",
    "\n",
    "## Wejście:\n",
    "```\n",
    "Podaj liczbę: 12\n",
    "```\n",
    "\n",
    "## Wyjście:\n",
    "```\n",
    "Kwadrat liczby 12 wynosi 144\n",
    "```"
   ]
  },
  {
   "cell_type": "code",
   "execution_count": null,
   "id": "1b5a2cc3-968a-4c7d-859a-73cbca96ac85",
   "metadata": {},
   "outputs": [],
   "source": []
  }
 ],
 "metadata": {
  "kernelspec": {
   "display_name": "Python 3 (ipykernel)",
   "language": "python",
   "name": "python3"
  },
  "language_info": {
   "codemirror_mode": {
    "name": "ipython",
    "version": 3
   },
   "file_extension": ".py",
   "mimetype": "text/x-python",
   "name": "python",
   "nbconvert_exporter": "python",
   "pygments_lexer": "ipython3",
   "version": "3.13.0"
  }
 },
 "nbformat": 4,
 "nbformat_minor": 5
}
