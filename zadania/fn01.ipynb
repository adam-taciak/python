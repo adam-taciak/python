{
 "cells": [
  {
   "cell_type": "markdown",
   "id": "3f020dc4-8b37-46cb-98a4-ec44036f6d2e",
   "metadata": {},
   "source": [
    "# Zadanie FN-01\n",
    "Napisz program w którym zdefiniujesz funkcję czy_podzielna() przyjmującą dwa argumenty `x` oraz `y`. Funkcja powinna sprawdzać czy liczba x jest podzielna przez y, a wynik w postaci komunikatu, wyświetli na ekranie. Używając nowej funkcji, sprawdź podzielnosc liczb z listy sprawdzic."
   ]
  },
  {
   "cell_type": "code",
   "execution_count": 3,
   "id": "e7c178f9-1c37-471c-ab0f-a3ab0b40fb1b",
   "metadata": {},
   "outputs": [],
   "source": [
    "sprawdzic = [(144, 6), (70, 2), (125, 7), (111, 3)]"
   ]
  },
  {
   "cell_type": "code",
   "execution_count": null,
   "id": "8eb4bc76-925f-4b15-9a09-79c914cc8bbf",
   "metadata": {},
   "outputs": [],
   "source": []
  }
 ],
 "metadata": {
  "kernelspec": {
   "display_name": "Python 3 (ipykernel)",
   "language": "python",
   "name": "python3"
  },
  "language_info": {
   "codemirror_mode": {
    "name": "ipython",
    "version": 3
   },
   "file_extension": ".py",
   "mimetype": "text/x-python",
   "name": "python",
   "nbconvert_exporter": "python",
   "pygments_lexer": "ipython3",
   "version": "3.13.0"
  }
 },
 "nbformat": 4,
 "nbformat_minor": 5
}
