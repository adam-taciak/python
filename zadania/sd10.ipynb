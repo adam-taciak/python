{
 "cells": [
  {
   "cell_type": "markdown",
   "id": "826cec47-e7c8-4089-b38a-e06019073979",
   "metadata": {},
   "source": [
    "# Zadanie SD-10\n",
    "\n",
    "Napisz program, który na wejściu przyjmuje wyrazy, a następnie wyświetli kolejne wyrazy w kolejności odwrotnej do alfabetycznej. Wyrazy nie mogą się powtarzać!\n",
    "\n",
    "### Wejście:\n",
    "```\n",
    "Ala ma psa Ala ma kota\n",
    "```\n",
    "\n",
    "### Wyjście:\n",
    "```\n",
    "psa\n",
    "ma\n",
    "kota\n",
    "Ala\n",
    "```\n",
    "\n",
    "### Wskazówki:\n",
    "- skorzystaj z funkcji `sorted()`\n",
    "- aby usunąc duplikaty, skorzystaj ze zbioru\n",
    "- wykorzystaj pętlę for do wyświetlenia elementów listy"
   ]
  },
  {
   "cell_type": "code",
   "execution_count": null,
   "id": "5eceea02-b889-414f-83e6-b02710744d24",
   "metadata": {},
   "outputs": [],
   "source": []
  }
 ],
 "metadata": {
  "kernelspec": {
   "display_name": "Python 3 (ipykernel)",
   "language": "python",
   "name": "python3"
  },
  "language_info": {
   "codemirror_mode": {
    "name": "ipython",
    "version": 3
   },
   "file_extension": ".py",
   "mimetype": "text/x-python",
   "name": "python",
   "nbconvert_exporter": "python",
   "pygments_lexer": "ipython3",
   "version": "3.13.0"
  }
 },
 "nbformat": 4,
 "nbformat_minor": 5
}
