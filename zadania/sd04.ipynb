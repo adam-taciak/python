{
 "cells": [
  {
   "cell_type": "markdown",
   "id": "ee75b226-a9d8-4fe3-8723-d72305e18259",
   "metadata": {},
   "source": [
    "# Zadanie SD-4\n",
    "\n",
    "Napisz program który na wejściu przyjmuje sekwencję liczb oddzielonych przecinkiem, a następnie generuje listę oraz krotkę z tymi liczbami. Program wyświetla wygenerowaną listę i krotkę.\n",
    "\n",
    "### Wejście:\n",
    "```\n",
    "11,53,23,26,63,51\n",
    "```\n",
    "\n",
    "### Wyjście:\n",
    "```\n",
    "['11', '53', '23', '26', '63', '51']\n",
    "('11', '53', '23', '26', '63', '51')\n",
    "```\n",
    "\n",
    "### Wskazówki:\n",
    "- skorzystaj z metody `split()`\n",
    "- funkcja `tuple()` potrafi konwertować listę na krotkę"
   ]
  },
  {
   "cell_type": "code",
   "execution_count": null,
   "id": "e3ad7f8f-2d12-4c5f-92a1-682f84db42f2",
   "metadata": {},
   "outputs": [],
   "source": []
  }
 ],
 "metadata": {
  "kernelspec": {
   "display_name": "Python 3 (ipykernel)",
   "language": "python",
   "name": "python3"
  },
  "language_info": {
   "codemirror_mode": {
    "name": "ipython",
    "version": 3
   },
   "file_extension": ".py",
   "mimetype": "text/x-python",
   "name": "python",
   "nbconvert_exporter": "python",
   "pygments_lexer": "ipython3",
   "version": "3.13.0"
  }
 },
 "nbformat": 4,
 "nbformat_minor": 5
}
