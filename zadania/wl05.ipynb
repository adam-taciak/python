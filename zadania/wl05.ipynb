{
 "cells": [
  {
   "cell_type": "markdown",
   "id": "2f54f73a-5232-43e0-beaf-f9981303a28c",
   "metadata": {},
   "source": [
    "# Zadanie WL-05\n",
    "Używając funkcji reduce() oblicz ilość wszystkich elementów listy. Wynik wyświetl na ekranie.\n",
    "\n",
    "### Wyjście:\n",
    "```\n",
    "9\n",
    "```"
   ]
  },
  {
   "cell_type": "code",
   "execution_count": 1,
   "id": "e4db1471-6a03-4f1e-8f69-8df7bb331df7",
   "metadata": {},
   "outputs": [],
   "source": [
    "from functools import reduce\n",
    "\n",
    "lista = ['ala', 'ma', 'kota']"
   ]
  },
  {
   "cell_type": "code",
   "execution_count": null,
   "id": "89cd1337-7ff5-4bb1-a0cb-922574429cb1",
   "metadata": {},
   "outputs": [],
   "source": []
  }
 ],
 "metadata": {
  "kernelspec": {
   "display_name": "Python 3 (ipykernel)",
   "language": "python",
   "name": "python3"
  },
  "language_info": {
   "codemirror_mode": {
    "name": "ipython",
    "version": 3
   },
   "file_extension": ".py",
   "mimetype": "text/x-python",
   "name": "python",
   "nbconvert_exporter": "python",
   "pygments_lexer": "ipython3",
   "version": "3.13.0"
  }
 },
 "nbformat": 4,
 "nbformat_minor": 5
}
