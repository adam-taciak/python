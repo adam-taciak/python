{
 "cells": [
  {
   "cell_type": "markdown",
   "id": "ccb27e80-c27c-43ed-bf11-725735dc8059",
   "metadata": {},
   "source": [
    "# Zadanie WL-01\n",
    "Używając funkcji map(), napisz program który na bazie listy lista, utworzy nową listę w której kolejne nazwy miesięcy będę z dużej litery. Przygotuj 2 rozwiązania, z deklaracją funkcji oraz z wyrażeniem lambda. Wyświetl nową listę.\n",
    "\n",
    "### Wskazówki:\n",
    " - do zmiany wielkości litery użyj metody .title(); 'ala'.title() => 'Ala'\n",
    "\n",
    "### Wyjście:\n",
    "```\n",
    "# ['Styczeń', 'Luty', 'Marzec', 'Kwiecień', 'Maj']\n",
    "```"
   ]
  },
  {
   "cell_type": "code",
   "execution_count": 1,
   "id": "1cd3875b-be89-432e-8ec8-52734fb4a384",
   "metadata": {},
   "outputs": [],
   "source": [
    "lista = ['styczeń', 'luty', 'marzec', 'kwiecień', 'maj']"
   ]
  },
  {
   "cell_type": "code",
   "execution_count": null,
   "id": "3f2dedac-d7f5-4b1a-82d7-d8d4b676f599",
   "metadata": {},
   "outputs": [],
   "source": []
  }
 ],
 "metadata": {
  "kernelspec": {
   "display_name": "Python 3 (ipykernel)",
   "language": "python",
   "name": "python3"
  },
  "language_info": {
   "codemirror_mode": {
    "name": "ipython",
    "version": 3
   },
   "file_extension": ".py",
   "mimetype": "text/x-python",
   "name": "python",
   "nbconvert_exporter": "python",
   "pygments_lexer": "ipython3",
   "version": "3.13.0"
  }
 },
 "nbformat": 4,
 "nbformat_minor": 5
}
