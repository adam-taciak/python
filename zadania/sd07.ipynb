{
 "cells": [
  {
   "cell_type": "markdown",
   "id": "4e068c0b-42a1-46ec-8386-6c4e2252b409",
   "metadata": {},
   "source": [
    "# Zadanie SD-07\n",
    "Napisz program który na wejściu przyjmuje zdania, a następnie zlicza małe oraz duże litery. Wynik wyświetla na wyjściu. Użyj słownika do przechowywania liczników liter. Przykładowy słownik może mieć następująca strukturę: `litery = { 'male': 0, 'duze': 0 }`.\n",
    "\n",
    "### Wejście:\n",
    "```\n",
    "Podaj zdanie: Ala ma kota. Kot ma Alę.\n",
    "```\n",
    "\n",
    "### Wyjście:\n",
    "```\n",
    "Duże litery: 3\n",
    "Małe litery: 14\n",
    "```\n",
    "\n",
    "### Wskazówki:\n",
    "- skorzystaj z funkcji `isupper()`\n",
    "- skorzystaj z funkcji `islower()`"
   ]
  },
  {
   "cell_type": "code",
   "execution_count": null,
   "id": "4944c7f2-b203-4527-abcb-9b92830b9c33",
   "metadata": {},
   "outputs": [],
   "source": []
  }
 ],
 "metadata": {
  "kernelspec": {
   "display_name": "Python 3 (ipykernel)",
   "language": "python",
   "name": "python3"
  },
  "language_info": {
   "codemirror_mode": {
    "name": "ipython",
    "version": 3
   },
   "file_extension": ".py",
   "mimetype": "text/x-python",
   "name": "python",
   "nbconvert_exporter": "python",
   "pygments_lexer": "ipython3",
   "version": "3.13.0"
  }
 },
 "nbformat": 4,
 "nbformat_minor": 5
}
