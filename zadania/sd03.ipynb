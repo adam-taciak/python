{
 "cells": [
  {
   "cell_type": "markdown",
   "id": "0865918f-d3a5-4eda-ac62-24ececd64d6f",
   "metadata": {},
   "source": [
    "# Zadanie SD-03\n",
    "Napisz program, który na wejściu oczekuje wyrazów oddzielonych spacjami, a następnie wyświetli kolejne wyrazy w kolejności alfabetycznej.\n",
    "\n",
    "### Wejście:\n",
    "```\n",
    "kot ma alę\n",
    "```\n",
    "\n",
    "### Wyjście:\n",
    "```\n",
    "# alę\n",
    "# kot\n",
    "# ma\n",
    "```\n",
    "\n",
    "### Wskazówki:\n",
    "- skorzystaj z funkcji `sorted()`\n",
    "- wykorzystaj pętlę `for` do wyświetlenia elementów listy"
   ]
  },
  {
   "cell_type": "code",
   "execution_count": null,
   "id": "8764c622-c297-4eec-a8c5-04b44e5702a4",
   "metadata": {},
   "outputs": [],
   "source": []
  }
 ],
 "metadata": {
  "kernelspec": {
   "display_name": "Python 3 (ipykernel)",
   "language": "python",
   "name": "python3"
  },
  "language_info": {
   "codemirror_mode": {
    "name": "ipython",
    "version": 3
   },
   "file_extension": ".py",
   "mimetype": "text/x-python",
   "name": "python",
   "nbconvert_exporter": "python",
   "pygments_lexer": "ipython3",
   "version": "3.13.0"
  }
 },
 "nbformat": 4,
 "nbformat_minor": 5
}
