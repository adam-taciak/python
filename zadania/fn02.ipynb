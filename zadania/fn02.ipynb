{
 "cells": [
  {
   "cell_type": "markdown",
   "id": "83d0d9ac-96d9-4910-ac53-71d7a5f7b6df",
   "metadata": {},
   "source": [
    "# Zadanie FN-02\n",
    "Napisz progrm w którym zdefiniujesz funkcję sprawdz_parzystosc(). Funkcja przyjmuje na wejściu listę liczb. Funkcja zwraca listę, o tej samej długości co lista wejściowa. Nowa lista powinna zawierać informację o parzystości liczby na tym samym indeksie na liście wejściowej. Wyświetl listę wejściową oraz nową listę którą zwróci funkcja sprwadz_parzystosc().\n",
    "\n",
    "### Wejście:\n",
    "```\n",
    "[4, 7, 11, 19, 8, 6]\n",
    "```\n",
    "\n",
    "## Wyjście:\n",
    "```\n",
    "[True, False, False, False, True, True]\n",
    "```"
   ]
  },
  {
   "cell_type": "code",
   "execution_count": 3,
   "id": "778c6e1b-a0b6-4390-8dc9-73956952a802",
   "metadata": {},
   "outputs": [],
   "source": [
    "liczby = [4, 7, 11, 19, 8, 6]"
   ]
  },
  {
   "cell_type": "code",
   "execution_count": null,
   "id": "da2063d4-250d-4b6b-b89d-bb33df49d413",
   "metadata": {},
   "outputs": [],
   "source": []
  }
 ],
 "metadata": {
  "kernelspec": {
   "display_name": "Python 3 (ipykernel)",
   "language": "python",
   "name": "python3"
  },
  "language_info": {
   "codemirror_mode": {
    "name": "ipython",
    "version": 3
   },
   "file_extension": ".py",
   "mimetype": "text/x-python",
   "name": "python",
   "nbconvert_exporter": "python",
   "pygments_lexer": "ipython3",
   "version": "3.13.0"
  }
 },
 "nbformat": 4,
 "nbformat_minor": 5
}
