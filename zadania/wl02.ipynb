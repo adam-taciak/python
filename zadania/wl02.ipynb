{
 "cells": [
  {
   "cell_type": "markdown",
   "id": "410e5f4f-37a7-4205-8dd1-f1dda865e682",
   "metadata": {},
   "source": [
    "# Zadanie WL-02\n",
    "Przy użyciu funkcji map(), napisz program który na bazie dwóch listy utworzy nową listę. Lista wyjściowa powinna zawierać nazwę miesiąca z liczbą dni. Przygotuj 2 wersje, z deklaracją funkcji oraz z wyrażeniem lambda. Wyświetl nową listę.\n",
    "\n",
    "### Wyjście:\n",
    "```\n",
    "['styczeń - 31', 'luty - 28', 'marzec - 31', 'kwiecień - 30', 'maj - 31']\n",
    "```"
   ]
  },
  {
   "cell_type": "code",
   "execution_count": 1,
   "id": "13658a35-6ae9-4ef2-81c3-33b4d56b01d7",
   "metadata": {},
   "outputs": [],
   "source": [
    "lista1 = ['styczeń', 'luty', 'marzec', 'kwiecień', 'maj']\n",
    "lista2 = [31, 28, 31, 30, 31]"
   ]
  },
  {
   "cell_type": "code",
   "execution_count": null,
   "id": "7b7c93a3-88d6-4048-8f84-6c8e393e5ef8",
   "metadata": {},
   "outputs": [],
   "source": []
  }
 ],
 "metadata": {
  "kernelspec": {
   "display_name": "Python 3 (ipykernel)",
   "language": "python",
   "name": "python3"
  },
  "language_info": {
   "codemirror_mode": {
    "name": "ipython",
    "version": 3
   },
   "file_extension": ".py",
   "mimetype": "text/x-python",
   "name": "python",
   "nbconvert_exporter": "python",
   "pygments_lexer": "ipython3",
   "version": "3.13.0"
  }
 },
 "nbformat": 4,
 "nbformat_minor": 5
}
