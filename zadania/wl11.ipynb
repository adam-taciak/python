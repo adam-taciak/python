{
 "cells": [
  {
   "cell_type": "markdown",
   "id": "6e785cfc-4c51-498b-91d0-c5a0194ee592",
   "metadata": {},
   "source": [
    "# Zadanie WL-11\n",
    "Napisz program który utworzy listę liczb parzystych lub nieparzystych z podanego przez użytkownika przedziału. Program prosi użytkownika o podanie przedzału liczb oraz rodzaju liczb P - parzyste, N - nieparzyste. Po wprowadzeniu danych, program wyświetla liczby.\n",
    "\n",
    "### Wejście:\n",
    "```\n",
    "Początek przedziału: 5\n",
    "Koniec przedziału: 13\n",
    "Rodzaj (P) - parzyste, (N) - nieparzyste: P\n",
    "```\n",
    "\n",
    "### Wyjście:\n",
    "```\n",
    "6\n",
    "8\n",
    "10\n",
    "12\n",
    "```"
   ]
  },
  {
   "cell_type": "code",
   "execution_count": null,
   "id": "85ef58b2-4517-496c-9996-d80348115e95",
   "metadata": {},
   "outputs": [],
   "source": []
  }
 ],
 "metadata": {
  "kernelspec": {
   "display_name": "Python 3 (ipykernel)",
   "language": "python",
   "name": "python3"
  },
  "language_info": {
   "codemirror_mode": {
    "name": "ipython",
    "version": 3
   },
   "file_extension": ".py",
   "mimetype": "text/x-python",
   "name": "python",
   "nbconvert_exporter": "python",
   "pygments_lexer": "ipython3",
   "version": "3.13.0"
  }
 },
 "nbformat": 4,
 "nbformat_minor": 5
}
